{
 "cells": [
  {
   "cell_type": "code",
   "execution_count": 60,
   "metadata": {
    "scrolled": false
   },
   "outputs": [
    {
     "name": "stdout",
     "output_type": "stream",
     "text": [
      "file: puzzle\\00FF00.txt is missing letter o\n",
      "file: puzzle\\011312.txt is missing letter r\n",
      "file: puzzle\\031544.txt is missing letter c\n",
      "file: puzzle\\112151.txt is missing letter p\n",
      "file: puzzle\\134215.txt is missing letter a\n",
      "file: puzzle\\232132.txt is missing letter w\n",
      "file: puzzle\\233421.txt is missing letter i\n",
      "file: puzzle\\243052.txt is missing letter l\n",
      "file: puzzle\\305154.txt is missing letter g\n",
      "file: puzzle\\331553.txt is missing letter e\n",
      "file: puzzle\\450210.txt is missing letter s\n",
      "file: puzzle\\520322.txt is missing letter v\n",
      "file: puzzle\\533150.txt is missing letter j\n",
      "file: puzzle\\540513.txt is missing letter y\n",
      "file: puzzle\\542414.txt is missing letter t\n",
      "file: puzzle\\AADCAB.txt is missing letter q\n",
      "file: puzzle\\AFDCAF.txt is missing letter f\n",
      "file: puzzle\\BEBFCC.txt is missing letter b\n",
      "file: puzzle\\CAECAE.txt is missing letter h\n",
      "file: puzzle\\EBFADB.txt is missing letter k\n",
      "file: puzzle\\ECCFFD.txt is missing letter d\n",
      "file: puzzle\\ECEBBB.txt is missing letter z\n",
      "file: puzzle\\FAECEC.txt is missing letter n\n",
      "file: puzzle\\FBCFDF.txt is missing letter m\n",
      "file: puzzle\\FDBFCE.txt is missing letter x\n"
     ]
    }
   ],
   "source": [
    "import os\n",
    "import string\n",
    "\n",
    "dir = \"puzzle\"\n",
    "for files in os.listdir(dir):\n",
    "    alphabet_string = string.ascii_lowercase\n",
    "    alphabet_list = list(alphabet_string)\n",
    "    name = os.path.join(dir, files)\n",
    "    text = open(name, \"r\")\n",
    "    for word in text:\n",
    "        for letter in word:\n",
    "            if letter in alphabet_list:\n",
    "                alphabet_list.remove(letter)\n",
    "    print(\"file: \" + name + \" is missing letter \" + alphabet_list[0])"
   ]
  },
  {
   "cell_type": "markdown",
   "metadata": {},
   "source": [
    "In this code I loop through all the files in the puzzle folder, and then loop through every word in every file, and then through every letter in each file to determine which letter isn't in the file at all. I deleted the letter from a list containing the alphabet every time it encountered the letter within a single file.\n",
    "\n",
    "I used os library so I could easily go through the files within the folder https://docs.python.org/3/library/os.html\n",
    "\n",
    "I used string so I could make a string of the alphabet https://docs.python.org/3/library/string.html \n",
    "I copied this to make a list of the alphabet https://www.kite.com/python/answers/how-to-make-a-list-of-the-alphabet-in-python"
   ]
  },
  {
   "cell_type": "code",
   "execution_count": 21,
   "metadata": {
    "scrolled": true
   },
   "outputs": [
    {
     "name": "stdout",
     "output_type": "stream",
     "text": [
      "\u001b[48;5;10m00FF00.txt\n",
      "\u001b[48;5;232m011312.txt\n",
      "\u001b[48;5;17m031544.txt\n",
      "\u001b[48;5;17m112151.txt\n",
      "\u001b[48;5;235m134215.txt\n",
      "\u001b[48;5;235m232132.txt\n",
      "\u001b[48;5;235m233421.txt\n",
      "\u001b[48;5;237m243052.txt\n",
      "\u001b[48;5;238m305154.txt\n",
      "\u001b[48;5;236m331553.txt\n",
      "\u001b[48;5;52m450210.txt\n",
      "\u001b[48;5;52m520322.txt\n",
      "\u001b[48;5;238m533150.txt\n",
      "\u001b[48;5;52m540513.txt\n",
      "\u001b[48;5;52m542414.txt\n",
      "\u001b[48;5;151mAADCAB.txt\n",
      "\u001b[48;5;151mAFDCAF.txt\n",
      "\u001b[48;5;7mBEBFCC.txt\n",
      "\u001b[48;5;193mCAECAE.txt\n",
      "\u001b[48;5;194mEBFADB.txt\n",
      "\u001b[48;5;225mECCFFD.txt\n",
      "\u001b[48;5;223mECEBBB.txt\n",
      "\u001b[48;5;255mFAECEC.txt\n",
      "\u001b[48;5;224mFBCFDF.txt\n",
      "\u001b[48;5;218mFDBFCE.txt\n"
     ]
    }
   ],
   "source": [
    "import os\n",
    "from colored import fg, bg\n",
    "\n",
    "dir = \"puzzle\"\n",
    "for files in os.listdir(dir):\n",
    "    color = bg('#' + files[:6])\n",
    "    print(color + files)"
   ]
  },
  {
   "cell_type": "markdown",
   "metadata": {},
   "source": [
    "In this code I loop through the names of the files in the puzzle folder and use the titles of the folders to get the color of the hexcode in it and then printing it as the background. \n",
    "\n",
    "I used the colored library so I didn't have to convert hex to rgb https://pypi.org/project/colored/"
   ]
  },
  {
   "cell_type": "markdown",
   "metadata": {},
   "source": [
    "After this I put the txt files in alphabetical order based on what letter they were missing, and converted the colors to zeros and ones\n",
    "\n",
    "a = DarkGreen 0\n",
    "b = LightBlue 1\n",
    "c = NavyBlue 0\n",
    "D = LightPurple 1\n",
    "E = PurplishBlue 0\n",
    "F = LightGreen 1\n",
    "G = GreyBlue 0\n",
    "H = LightGreen 1\n",
    "I = DarkGreen 0 \n",
    "J = GreyPurple 0\n",
    "K = LightGreen 1\n",
    "L = NavyBlue 0\n",
    "M = Pink 1\n",
    "N = LightPink 1\n",
    "O = LimeGreen 1\n",
    "P = NavyBlue 0\n",
    "Q = LightGreen 1\n",
    "R = DarkGreen 0\n",
    "S = Maroon 0\n",
    "T = Brown 0\n",
    "V = Maroon 0\n",
    "W = NavyBlue 0\n",
    "X = Pink 1\n",
    "Y = Purple 0 \n",
    "Z = LightGreen 1\n",
    "\n",
    "Then starting at but not including the lime green color I converted the binary into three sets of 8 and got this letter string\n",
    "0100001 01010101 01001011\n",
    "AUK"
   ]
  },
  {
   "cell_type": "code",
   "execution_count": 4,
   "metadata": {},
   "outputs": [
    {
     "name": "stdout",
     "output_type": "stream",
     "text": [
      "\u0000\u0000\u0000\u0000\u0000\u0000A\u0000\u0000\u0000\u0000\u0000\u0000U\u0000\u0000\u0000\u0000\u0000\u0000K\n"
     ]
    }
   ],
   "source": [
    "binary_int = int(\"01000001\", 2)\n",
    "binary_int2 = int(\"01010101\", 2)\n",
    "binary_int3 = int(\"01001011\", 2)\n",
    "\n",
    "byte_number = binary_int.bit_length() + 7 // 8\n",
    "byte_number2 = binary_int2.bit_length() + 7 // 8\n",
    "byte_number3 = binary_int3.bit_length() + 7 // 8\n",
    "\n",
    "binary_array = binary_int.to_bytes(byte_number, \"big\")\n",
    "binary_array2 = binary_int2.to_bytes(byte_number2, \"big\")\n",
    "binary_array3 = binary_int3.to_bytes(byte_number3, \"big\")\n",
    "\n",
    "ascii_text = binary_array.decode()\n",
    "ascii_text2 = binary_array2.decode()\n",
    "ascii_text3 = binary_array3.decode()\n",
    "\n",
    "print(ascii_text + ascii_text2 + ascii_text3)"
   ]
  },
  {
   "cell_type": "markdown",
   "metadata": {},
   "source": [
    "In this I am converting the three sets of binary code that I got from the code into ascii characters. I copied this converter straight from this website https://www.kite.com/python/answers/how-to-convert-binary-string-to-and-from-ascii-text-in-python\n",
    "\n",
    "When I look up auk I get information about the Auk bird, which died on a hilltop and went extinct in 1844 which corresponds to the riddle. The answer is Auk"
   ]
  }
 ],
 "metadata": {
  "kernelspec": {
   "display_name": "Python 3",
   "language": "python",
   "name": "python3"
  },
  "language_info": {
   "codemirror_mode": {
    "name": "ipython",
    "version": 3
   },
   "file_extension": ".py",
   "mimetype": "text/x-python",
   "name": "python",
   "nbconvert_exporter": "python",
   "pygments_lexer": "ipython3",
   "version": "3.8.3"
  }
 },
 "nbformat": 4,
 "nbformat_minor": 4
}
